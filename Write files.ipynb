{
 "cells": [
  {
   "cell_type": "code",
   "execution_count": 1,
   "metadata": {},
   "outputs": [],
   "source": [
    "import csv\n",
    "\n",
    "with open('Sentiment Analysis Dataset.csv',encoding=\"utf8\") as csvfile:\n",
    "    readCSV = csv.reader(csvfile, delimiter=',')\n",
    "    pos = []\n",
    "    neg = []\n",
    "    for row in readCSV:\n",
    "        if(row[1]==\"Sentiment\"):\n",
    "            continue\n",
    "        if(int(row[1])):\n",
    "            pos.append(row[3])\n",
    "        else:\n",
    "            neg.append(row[3])\n",
    "            \n",
    "posfile = open('positive.txt','w',encoding=\"utf8\")\n",
    "for item in pos[1:]:\n",
    "  posfile.write(item+'\\n')\n",
    "posfile.close()\n",
    "\n",
    "negfile = open('negative.txt','w',encoding=\"utf8\")\n",
    "for item in neg[1:]:\n",
    "  negfile.write(item+'\\n')\n",
    "negfile.close()"
   ]
  },
  {
   "cell_type": "code",
   "execution_count": null,
   "metadata": {},
   "outputs": [],
   "source": []
  }
 ],
 "metadata": {
  "kernelspec": {
   "display_name": "Python 3",
   "language": "python",
   "name": "python3"
  },
  "language_info": {
   "codemirror_mode": {
    "name": "ipython",
    "version": 3
   },
   "file_extension": ".py",
   "mimetype": "text/x-python",
   "name": "python",
   "nbconvert_exporter": "python",
   "pygments_lexer": "ipython3",
   "version": "3.5.4"
  }
 },
 "nbformat": 4,
 "nbformat_minor": 1
}
